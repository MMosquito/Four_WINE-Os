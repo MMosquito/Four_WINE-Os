{
  "nbformat": 4,
  "nbformat_minor": 0,
  "metadata": {
    "colab": {
      "provenance": []
    },
    "kernelspec": {
      "name": "python3",
      "display_name": "Python 3"
    },
    "language_info": {
      "name": "python"
    }
  },
  "cells": [
    {
      "cell_type": "code",
      "execution_count": 1,
      "metadata": {
        "id": "icqBW5pdL_kB"
      },
      "outputs": [],
      "source": [
        "%matplotlib inline\n",
        "from matplotlib import pyplot as plt\n",
        "from sklearn.datasets import make_classification\n",
        "import numpy as np\n",
        "import pandas as pd\n",
        "from sklearn.ensemble import RandomForestClassifier\n",
        "from sklearn.linear_model import LogisticRegression\n",
        "from sklearn.model_selection import train_test_split\n",
        "from sklearn.preprocessing import StandardScaler, OneHotEncoder\n",
        "from keras.models import Sequential\n",
        "from keras.layers import Dense\n",
        "from keras.wrappers.scikit_learn import KerasClassifier\n",
        "from keras.utils import np_utils\n",
        "from sklearn.model_selection import cross_val_score\n",
        "from sklearn.model_selection import KFold\n",
        "from sklearn.preprocessing import LabelEncoder\n",
        "from sklearn.pipeline import Pipeline\n"
      ]
    },
    {
      "cell_type": "code",
      "source": [
        "from google.colab import files\n",
        "uploaded = files.upload()\n",
        "\n",
        "import io\n",
        "wine_df = pd.read_csv(io.BytesIO(uploaded['preprocessed_wine_data.csv']))"
      ],
      "metadata": {
        "colab": {
          "base_uri": "https://localhost:8080/",
          "height": 74
        },
        "id": "bhaQ_OmQMBe_",
        "outputId": "26cbed23-997d-478d-be95-b0b936b0e7fa"
      },
      "execution_count": 2,
      "outputs": [
        {
          "output_type": "display_data",
          "data": {
            "text/plain": [
              "<IPython.core.display.HTML object>"
            ],
            "text/html": [
              "\n",
              "     <input type=\"file\" id=\"files-3c27d443-ddc9-4c67-bb38-58841c926f10\" name=\"files[]\" multiple disabled\n",
              "        style=\"border:none\" />\n",
              "     <output id=\"result-3c27d443-ddc9-4c67-bb38-58841c926f10\">\n",
              "      Upload widget is only available when the cell has been executed in the\n",
              "      current browser session. Please rerun this cell to enable.\n",
              "      </output>\n",
              "      <script>// Copyright 2017 Google LLC\n",
              "//\n",
              "// Licensed under the Apache License, Version 2.0 (the \"License\");\n",
              "// you may not use this file except in compliance with the License.\n",
              "// You may obtain a copy of the License at\n",
              "//\n",
              "//      http://www.apache.org/licenses/LICENSE-2.0\n",
              "//\n",
              "// Unless required by applicable law or agreed to in writing, software\n",
              "// distributed under the License is distributed on an \"AS IS\" BASIS,\n",
              "// WITHOUT WARRANTIES OR CONDITIONS OF ANY KIND, either express or implied.\n",
              "// See the License for the specific language governing permissions and\n",
              "// limitations under the License.\n",
              "\n",
              "/**\n",
              " * @fileoverview Helpers for google.colab Python module.\n",
              " */\n",
              "(function(scope) {\n",
              "function span(text, styleAttributes = {}) {\n",
              "  const element = document.createElement('span');\n",
              "  element.textContent = text;\n",
              "  for (const key of Object.keys(styleAttributes)) {\n",
              "    element.style[key] = styleAttributes[key];\n",
              "  }\n",
              "  return element;\n",
              "}\n",
              "\n",
              "// Max number of bytes which will be uploaded at a time.\n",
              "const MAX_PAYLOAD_SIZE = 100 * 1024;\n",
              "\n",
              "function _uploadFiles(inputId, outputId) {\n",
              "  const steps = uploadFilesStep(inputId, outputId);\n",
              "  const outputElement = document.getElementById(outputId);\n",
              "  // Cache steps on the outputElement to make it available for the next call\n",
              "  // to uploadFilesContinue from Python.\n",
              "  outputElement.steps = steps;\n",
              "\n",
              "  return _uploadFilesContinue(outputId);\n",
              "}\n",
              "\n",
              "// This is roughly an async generator (not supported in the browser yet),\n",
              "// where there are multiple asynchronous steps and the Python side is going\n",
              "// to poll for completion of each step.\n",
              "// This uses a Promise to block the python side on completion of each step,\n",
              "// then passes the result of the previous step as the input to the next step.\n",
              "function _uploadFilesContinue(outputId) {\n",
              "  const outputElement = document.getElementById(outputId);\n",
              "  const steps = outputElement.steps;\n",
              "\n",
              "  const next = steps.next(outputElement.lastPromiseValue);\n",
              "  return Promise.resolve(next.value.promise).then((value) => {\n",
              "    // Cache the last promise value to make it available to the next\n",
              "    // step of the generator.\n",
              "    outputElement.lastPromiseValue = value;\n",
              "    return next.value.response;\n",
              "  });\n",
              "}\n",
              "\n",
              "/**\n",
              " * Generator function which is called between each async step of the upload\n",
              " * process.\n",
              " * @param {string} inputId Element ID of the input file picker element.\n",
              " * @param {string} outputId Element ID of the output display.\n",
              " * @return {!Iterable<!Object>} Iterable of next steps.\n",
              " */\n",
              "function* uploadFilesStep(inputId, outputId) {\n",
              "  const inputElement = document.getElementById(inputId);\n",
              "  inputElement.disabled = false;\n",
              "\n",
              "  const outputElement = document.getElementById(outputId);\n",
              "  outputElement.innerHTML = '';\n",
              "\n",
              "  const pickedPromise = new Promise((resolve) => {\n",
              "    inputElement.addEventListener('change', (e) => {\n",
              "      resolve(e.target.files);\n",
              "    });\n",
              "  });\n",
              "\n",
              "  const cancel = document.createElement('button');\n",
              "  inputElement.parentElement.appendChild(cancel);\n",
              "  cancel.textContent = 'Cancel upload';\n",
              "  const cancelPromise = new Promise((resolve) => {\n",
              "    cancel.onclick = () => {\n",
              "      resolve(null);\n",
              "    };\n",
              "  });\n",
              "\n",
              "  // Wait for the user to pick the files.\n",
              "  const files = yield {\n",
              "    promise: Promise.race([pickedPromise, cancelPromise]),\n",
              "    response: {\n",
              "      action: 'starting',\n",
              "    }\n",
              "  };\n",
              "\n",
              "  cancel.remove();\n",
              "\n",
              "  // Disable the input element since further picks are not allowed.\n",
              "  inputElement.disabled = true;\n",
              "\n",
              "  if (!files) {\n",
              "    return {\n",
              "      response: {\n",
              "        action: 'complete',\n",
              "      }\n",
              "    };\n",
              "  }\n",
              "\n",
              "  for (const file of files) {\n",
              "    const li = document.createElement('li');\n",
              "    li.append(span(file.name, {fontWeight: 'bold'}));\n",
              "    li.append(span(\n",
              "        `(${file.type || 'n/a'}) - ${file.size} bytes, ` +\n",
              "        `last modified: ${\n",
              "            file.lastModifiedDate ? file.lastModifiedDate.toLocaleDateString() :\n",
              "                                    'n/a'} - `));\n",
              "    const percent = span('0% done');\n",
              "    li.appendChild(percent);\n",
              "\n",
              "    outputElement.appendChild(li);\n",
              "\n",
              "    const fileDataPromise = new Promise((resolve) => {\n",
              "      const reader = new FileReader();\n",
              "      reader.onload = (e) => {\n",
              "        resolve(e.target.result);\n",
              "      };\n",
              "      reader.readAsArrayBuffer(file);\n",
              "    });\n",
              "    // Wait for the data to be ready.\n",
              "    let fileData = yield {\n",
              "      promise: fileDataPromise,\n",
              "      response: {\n",
              "        action: 'continue',\n",
              "      }\n",
              "    };\n",
              "\n",
              "    // Use a chunked sending to avoid message size limits. See b/62115660.\n",
              "    let position = 0;\n",
              "    do {\n",
              "      const length = Math.min(fileData.byteLength - position, MAX_PAYLOAD_SIZE);\n",
              "      const chunk = new Uint8Array(fileData, position, length);\n",
              "      position += length;\n",
              "\n",
              "      const base64 = btoa(String.fromCharCode.apply(null, chunk));\n",
              "      yield {\n",
              "        response: {\n",
              "          action: 'append',\n",
              "          file: file.name,\n",
              "          data: base64,\n",
              "        },\n",
              "      };\n",
              "\n",
              "      let percentDone = fileData.byteLength === 0 ?\n",
              "          100 :\n",
              "          Math.round((position / fileData.byteLength) * 100);\n",
              "      percent.textContent = `${percentDone}% done`;\n",
              "\n",
              "    } while (position < fileData.byteLength);\n",
              "  }\n",
              "\n",
              "  // All done.\n",
              "  yield {\n",
              "    response: {\n",
              "      action: 'complete',\n",
              "    }\n",
              "  };\n",
              "}\n",
              "\n",
              "scope.google = scope.google || {};\n",
              "scope.google.colab = scope.google.colab || {};\n",
              "scope.google.colab._files = {\n",
              "  _uploadFiles,\n",
              "  _uploadFilesContinue,\n",
              "};\n",
              "})(self);\n",
              "</script> "
            ]
          },
          "metadata": {}
        },
        {
          "output_type": "stream",
          "name": "stdout",
          "text": [
            "Saving preprocessed_wine_data.csv to preprocessed_wine_data.csv\n"
          ]
        }
      ]
    },
    {
      "cell_type": "code",
      "source": [
        "X = wine_df.copy()\n",
        "X = X.drop(\"quality\", axis=1)\n",
        "y = wine_df[\"quality\"].values\n",
        "dummy_y = np_utils.to_categorical(y)\n",
        "\n",
        "X_train, X_test, y_train, y_test = train_test_split(X, dummy_y, random_state=78)\n",
        "print(X_train.shape)\n",
        "print(X_test.shape)\n",
        "print(y_train.shape)\n",
        "print(y_test.shape)"
      ],
      "metadata": {
        "colab": {
          "base_uri": "https://localhost:8080/"
        },
        "id": "S56SLhhxMBhT",
        "outputId": "61bd4f8c-3e01-478a-b54c-4bfa1db36abb"
      },
      "execution_count": 3,
      "outputs": [
        {
          "output_type": "stream",
          "name": "stdout",
          "text": [
            "(1497, 11)\n",
            "(499, 11)\n",
            "(1497, 10)\n",
            "(499, 10)\n"
          ]
        }
      ]
    },
    {
      "cell_type": "code",
      "source": [
        "scaler = StandardScaler()\n",
        "X_scaler = scaler.fit(X_train)\n",
        "X_train_scaled = X_scaler.transform(X_train)\n",
        "X_test_scaled = X_scaler.transform(X_test)"
      ],
      "metadata": {
        "id": "Os121Gk9MBjp"
      },
      "execution_count": 4,
      "outputs": []
    },
    {
      "cell_type": "code",
      "source": [
        "clf = RandomForestClassifier(random_state=1, n_estimators=50).fit(X_train_scaled, y_train)\n",
        "print(f'Training Score: {clf.score(X_train_scaled, y_train)}')\n",
        "print(f'Testing Score: {clf.score(X_test_scaled, y_test)}')"
      ],
      "metadata": {
        "colab": {
          "base_uri": "https://localhost:8080/"
        },
        "id": "-Zo2jlB3MBly",
        "outputId": "59be25d0-6135-495a-f0ba-a4f6668e8cdd"
      },
      "execution_count": 5,
      "outputs": [
        {
          "output_type": "stream",
          "name": "stdout",
          "text": [
            "Training Score: 0.9986639946559787\n",
            "Testing Score: 0.4649298597194389\n"
          ]
        }
      ]
    },
    {
      "cell_type": "code",
      "source": [
        "feature_importances = clf.feature_importances_"
      ],
      "metadata": {
        "id": "_o8QaKNJMBoF"
      },
      "execution_count": 6,
      "outputs": []
    },
    {
      "cell_type": "code",
      "source": [
        "feature_importances"
      ],
      "metadata": {
        "colab": {
          "base_uri": "https://localhost:8080/"
        },
        "id": "UGlMNUARMBqK",
        "outputId": "18990ebd-21dd-49d2-848a-d740cf6dce88"
      },
      "execution_count": 7,
      "outputs": [
        {
          "output_type": "execute_result",
          "data": {
            "text/plain": [
              "array([0.07512825, 0.09894902, 0.07676237, 0.08145294, 0.08468685,\n",
              "       0.08882275, 0.09197027, 0.10908396, 0.0965438 , 0.0779453 ,\n",
              "       0.1186545 ])"
            ]
          },
          "metadata": {},
          "execution_count": 7
        }
      ]
    },
    {
      "cell_type": "code",
      "source": [
        "from sklearn.feature_selection import SelectFromModel\n",
        "sel = SelectFromModel(clf)\n",
        "sel.fit(X_train_scaled, y_train)"
      ],
      "metadata": {
        "colab": {
          "base_uri": "https://localhost:8080/",
          "height": 118
        },
        "id": "4ouanf6WMBsg",
        "outputId": "ee4211cf-bc7c-4b2b-cf87-0d2e6d2fdcc0"
      },
      "execution_count": 8,
      "outputs": [
        {
          "output_type": "execute_result",
          "data": {
            "text/plain": [
              "SelectFromModel(estimator=RandomForestClassifier(n_estimators=50,\n",
              "                                                 random_state=1))"
            ],
            "text/html": [
              "<style>#sk-container-id-1 {color: black;background-color: white;}#sk-container-id-1 pre{padding: 0;}#sk-container-id-1 div.sk-toggleable {background-color: white;}#sk-container-id-1 label.sk-toggleable__label {cursor: pointer;display: block;width: 100%;margin-bottom: 0;padding: 0.3em;box-sizing: border-box;text-align: center;}#sk-container-id-1 label.sk-toggleable__label-arrow:before {content: \"▸\";float: left;margin-right: 0.25em;color: #696969;}#sk-container-id-1 label.sk-toggleable__label-arrow:hover:before {color: black;}#sk-container-id-1 div.sk-estimator:hover label.sk-toggleable__label-arrow:before {color: black;}#sk-container-id-1 div.sk-toggleable__content {max-height: 0;max-width: 0;overflow: hidden;text-align: left;background-color: #f0f8ff;}#sk-container-id-1 div.sk-toggleable__content pre {margin: 0.2em;color: black;border-radius: 0.25em;background-color: #f0f8ff;}#sk-container-id-1 input.sk-toggleable__control:checked~div.sk-toggleable__content {max-height: 200px;max-width: 100%;overflow: auto;}#sk-container-id-1 input.sk-toggleable__control:checked~label.sk-toggleable__label-arrow:before {content: \"▾\";}#sk-container-id-1 div.sk-estimator input.sk-toggleable__control:checked~label.sk-toggleable__label {background-color: #d4ebff;}#sk-container-id-1 div.sk-label input.sk-toggleable__control:checked~label.sk-toggleable__label {background-color: #d4ebff;}#sk-container-id-1 input.sk-hidden--visually {border: 0;clip: rect(1px 1px 1px 1px);clip: rect(1px, 1px, 1px, 1px);height: 1px;margin: -1px;overflow: hidden;padding: 0;position: absolute;width: 1px;}#sk-container-id-1 div.sk-estimator {font-family: monospace;background-color: #f0f8ff;border: 1px dotted black;border-radius: 0.25em;box-sizing: border-box;margin-bottom: 0.5em;}#sk-container-id-1 div.sk-estimator:hover {background-color: #d4ebff;}#sk-container-id-1 div.sk-parallel-item::after {content: \"\";width: 100%;border-bottom: 1px solid gray;flex-grow: 1;}#sk-container-id-1 div.sk-label:hover label.sk-toggleable__label {background-color: #d4ebff;}#sk-container-id-1 div.sk-serial::before {content: \"\";position: absolute;border-left: 1px solid gray;box-sizing: border-box;top: 0;bottom: 0;left: 50%;z-index: 0;}#sk-container-id-1 div.sk-serial {display: flex;flex-direction: column;align-items: center;background-color: white;padding-right: 0.2em;padding-left: 0.2em;position: relative;}#sk-container-id-1 div.sk-item {position: relative;z-index: 1;}#sk-container-id-1 div.sk-parallel {display: flex;align-items: stretch;justify-content: center;background-color: white;position: relative;}#sk-container-id-1 div.sk-item::before, #sk-container-id-1 div.sk-parallel-item::before {content: \"\";position: absolute;border-left: 1px solid gray;box-sizing: border-box;top: 0;bottom: 0;left: 50%;z-index: -1;}#sk-container-id-1 div.sk-parallel-item {display: flex;flex-direction: column;z-index: 1;position: relative;background-color: white;}#sk-container-id-1 div.sk-parallel-item:first-child::after {align-self: flex-end;width: 50%;}#sk-container-id-1 div.sk-parallel-item:last-child::after {align-self: flex-start;width: 50%;}#sk-container-id-1 div.sk-parallel-item:only-child::after {width: 0;}#sk-container-id-1 div.sk-dashed-wrapped {border: 1px dashed gray;margin: 0 0.4em 0.5em 0.4em;box-sizing: border-box;padding-bottom: 0.4em;background-color: white;}#sk-container-id-1 div.sk-label label {font-family: monospace;font-weight: bold;display: inline-block;line-height: 1.2em;}#sk-container-id-1 div.sk-label-container {text-align: center;}#sk-container-id-1 div.sk-container {/* jupyter's `normalize.less` sets `[hidden] { display: none; }` but bootstrap.min.css set `[hidden] { display: none !important; }` so we also need the `!important` here to be able to override the default hidden behavior on the sphinx rendered scikit-learn.org. See: https://github.com/scikit-learn/scikit-learn/issues/21755 */display: inline-block !important;position: relative;}#sk-container-id-1 div.sk-text-repr-fallback {display: none;}</style><div id=\"sk-container-id-1\" class=\"sk-top-container\"><div class=\"sk-text-repr-fallback\"><pre>SelectFromModel(estimator=RandomForestClassifier(n_estimators=50,\n",
              "                                                 random_state=1))</pre><b>In a Jupyter environment, please rerun this cell to show the HTML representation or trust the notebook. <br />On GitHub, the HTML representation is unable to render, please try loading this page with nbviewer.org.</b></div><div class=\"sk-container\" hidden><div class=\"sk-item sk-dashed-wrapped\"><div class=\"sk-label-container\"><div class=\"sk-label sk-toggleable\"><input class=\"sk-toggleable__control sk-hidden--visually\" id=\"sk-estimator-id-1\" type=\"checkbox\" ><label for=\"sk-estimator-id-1\" class=\"sk-toggleable__label sk-toggleable__label-arrow\">SelectFromModel</label><div class=\"sk-toggleable__content\"><pre>SelectFromModel(estimator=RandomForestClassifier(n_estimators=50,\n",
              "                                                 random_state=1))</pre></div></div></div><div class=\"sk-parallel\"><div class=\"sk-parallel-item\"><div class=\"sk-item\"><div class=\"sk-label-container\"><div class=\"sk-label sk-toggleable\"><input class=\"sk-toggleable__control sk-hidden--visually\" id=\"sk-estimator-id-2\" type=\"checkbox\" ><label for=\"sk-estimator-id-2\" class=\"sk-toggleable__label sk-toggleable__label-arrow\">estimator: RandomForestClassifier</label><div class=\"sk-toggleable__content\"><pre>RandomForestClassifier(n_estimators=50, random_state=1)</pre></div></div></div><div class=\"sk-serial\"><div class=\"sk-item\"><div class=\"sk-estimator sk-toggleable\"><input class=\"sk-toggleable__control sk-hidden--visually\" id=\"sk-estimator-id-3\" type=\"checkbox\" ><label for=\"sk-estimator-id-3\" class=\"sk-toggleable__label sk-toggleable__label-arrow\">RandomForestClassifier</label><div class=\"sk-toggleable__content\"><pre>RandomForestClassifier(n_estimators=50, random_state=1)</pre></div></div></div></div></div></div></div></div></div></div>"
            ]
          },
          "metadata": {},
          "execution_count": 8
        }
      ]
    },
    {
      "cell_type": "code",
      "source": [
        "X_selected_train, X_selected_test, y_train, y_test = train_test_split(sel.transform(X), dummy_y, random_state=1)\n",
        "scaler = StandardScaler().fit(X_selected_train)\n",
        "X_selected_train_scaled = scaler.transform(X_selected_train)\n",
        "X_selected_test_scaled = scaler.transform(X_selected_test)"
      ],
      "metadata": {
        "colab": {
          "base_uri": "https://localhost:8080/"
        },
        "id": "fEvs5pYQMBu2",
        "outputId": "870905d1-273b-4246-d8fd-aaa03fa19755"
      },
      "execution_count": 9,
      "outputs": [
        {
          "output_type": "stream",
          "name": "stderr",
          "text": [
            "/usr/local/lib/python3.10/dist-packages/sklearn/base.py:432: UserWarning: X has feature names, but SelectFromModel was fitted without feature names\n",
            "  warnings.warn(\n"
          ]
        }
      ]
    },
    {
      "cell_type": "code",
      "source": [
        "clf2 = RandomForestClassifier(random_state=1, n_estimators=50).fit(X_selected_train_scaled, y_train)\n",
        "print(f'Training Score: {clf2.score(X_selected_train_scaled, y_train)}')\n",
        "print(f'Testing Score: {clf2.score(X_selected_test_scaled, y_test)}')"
      ],
      "metadata": {
        "colab": {
          "base_uri": "https://localhost:8080/"
        },
        "id": "by6f_zzQMBxM",
        "outputId": "df0b34f4-9d46-4a56-9929-60ad9ad56b36"
      },
      "execution_count": 10,
      "outputs": [
        {
          "output_type": "stream",
          "name": "stdout",
          "text": [
            "Training Score: 0.9986639946559787\n",
            "Testing Score: 0.46292585170340683\n"
          ]
        }
      ]
    },
    {
      "cell_type": "code",
      "source": [
        "print(X_selected_train_scaled.shape)\n",
        "print(X_selected_test_scaled.shape)\n",
        "print(y_train.shape)\n",
        "print(y_test.shape)"
      ],
      "metadata": {
        "colab": {
          "base_uri": "https://localhost:8080/"
        },
        "id": "eDJhvLoCMBzR",
        "outputId": "329b40f4-5929-4ba6-9935-31848f9d7b08"
      },
      "execution_count": 11,
      "outputs": [
        {
          "output_type": "stream",
          "name": "stdout",
          "text": [
            "(1497, 5)\n",
            "(499, 5)\n",
            "(1497, 10)\n",
            "(499, 10)\n"
          ]
        }
      ]
    },
    {
      "cell_type": "code",
      "source": [
        "def baseline_model():\n",
        "\t# create model\n",
        "\tmodel = Sequential()\n",
        "\tmodel.add(Dense(8, input_dim=5, activation='relu'))\n",
        "\tmodel.add(Dense(10, activation='softmax'))\n",
        "\t# Compile model\n",
        "\tmodel.compile(loss='categorical_crossentropy', optimizer='adam', metrics=['accuracy'])\n",
        "\treturn model\n"
      ],
      "metadata": {
        "id": "bq87c3t2MB1n"
      },
      "execution_count": 12,
      "outputs": []
    },
    {
      "cell_type": "code",
      "source": [
        "estimator = KerasClassifier(build_fn=baseline_model, epochs=200, batch_size=5, verbose=0)\n",
        "kfold = KFold(n_splits=10, shuffle=True)\n",
        "results = cross_val_score(estimator, X_selected_train_scaled, y_train, cv=kfold)\n",
        "print(\"Baseline: %.2f%% (%.2f%%)\" % (results.mean()*100, results.std()*100))"
      ],
      "metadata": {
        "colab": {
          "base_uri": "https://localhost:8080/"
        },
        "id": "njx0zRf2MB3v",
        "outputId": "ef3d7e7f-21cc-4842-9615-782cc396bac6"
      },
      "execution_count": 13,
      "outputs": [
        {
          "output_type": "stream",
          "name": "stderr",
          "text": [
            "<ipython-input-13-74202cdaa8c0>:1: DeprecationWarning: KerasClassifier is deprecated, use Sci-Keras (https://github.com/adriangb/scikeras) instead. See https://www.adriangb.com/scikeras/stable/migration.html for help migrating.\n",
            "  estimator = KerasClassifier(build_fn=baseline_model, epochs=200, batch_size=5, verbose=0)\n"
          ]
        },
        {
          "output_type": "stream",
          "name": "stdout",
          "text": [
            "Baseline: 53.77% (3.96%)\n"
          ]
        }
      ]
    },
    {
      "cell_type": "code",
      "source": [
        "import tensorflow as tf\n",
        "\n",
        "\n",
        "nn = tf.keras.models.Sequential()\n",
        "# number_input_features = len(X_train[0])\n",
        "\n",
        "nn.add(tf.keras.layers.Dense(units=50, activation=\"relu\", input_dim=5))\n",
        "# nn.add(tf.keras.layers.Dense(units=22, activation=\"relu\"))\n",
        "nn.add(tf.keras.layers.Dense(units=10, activation=\"softmax\"))\n",
        "nn.compile(loss=\"categorical_crossentropy\", optimizer=\"adam\", metrics=[\"accuracy\"])\n",
        "fit_model = nn.fit(X_selected_train_scaled, y_train, epochs=100)\n",
        "model_loss, model_accuracy = nn.evaluate(X_selected_test_scaled,y_test,verbose=2)\n",
        "print(f\"Loss: {model_loss}, Accuracy: {model_accuracy}\")\n"
      ],
      "metadata": {
        "colab": {
          "base_uri": "https://localhost:8080/"
        },
        "id": "s-3jYFWYMB6C",
        "outputId": "1ad696f6-21bf-40c7-cb4e-e65a0078b3bd"
      },
      "execution_count": 17,
      "outputs": [
        {
          "output_type": "stream",
          "name": "stdout",
          "text": [
            "Epoch 1/100\n",
            "47/47 [==============================] - 1s 4ms/step - loss: 2.0710 - accuracy: 0.3380\n",
            "Epoch 2/100\n",
            "47/47 [==============================] - 0s 3ms/step - loss: 1.6231 - accuracy: 0.4582\n",
            "Epoch 3/100\n",
            "47/47 [==============================] - 0s 5ms/step - loss: 1.3887 - accuracy: 0.4923\n",
            "Epoch 4/100\n",
            "47/47 [==============================] - 0s 4ms/step - loss: 1.2770 - accuracy: 0.5070\n",
            "Epoch 5/100\n",
            "47/47 [==============================] - 0s 4ms/step - loss: 1.2185 - accuracy: 0.5144\n",
            "Epoch 6/100\n",
            "47/47 [==============================] - 0s 6ms/step - loss: 1.1826 - accuracy: 0.5197\n",
            "Epoch 7/100\n",
            "47/47 [==============================] - 0s 4ms/step - loss: 1.1575 - accuracy: 0.5257\n",
            "Epoch 8/100\n",
            "47/47 [==============================] - 0s 4ms/step - loss: 1.1374 - accuracy: 0.5284\n",
            "Epoch 9/100\n",
            "47/47 [==============================] - 0s 4ms/step - loss: 1.1226 - accuracy: 0.5344\n",
            "Epoch 10/100\n",
            "47/47 [==============================] - 0s 4ms/step - loss: 1.1101 - accuracy: 0.5458\n",
            "Epoch 11/100\n",
            "47/47 [==============================] - 0s 3ms/step - loss: 1.1010 - accuracy: 0.5504\n",
            "Epoch 12/100\n",
            "47/47 [==============================] - 0s 3ms/step - loss: 1.0920 - accuracy: 0.5464\n",
            "Epoch 13/100\n",
            "47/47 [==============================] - 0s 4ms/step - loss: 1.0844 - accuracy: 0.5498\n",
            "Epoch 14/100\n",
            "47/47 [==============================] - 0s 4ms/step - loss: 1.0793 - accuracy: 0.5531\n",
            "Epoch 15/100\n",
            "47/47 [==============================] - 0s 3ms/step - loss: 1.0737 - accuracy: 0.5511\n",
            "Epoch 16/100\n",
            "47/47 [==============================] - 0s 3ms/step - loss: 1.0703 - accuracy: 0.5511\n",
            "Epoch 17/100\n",
            "47/47 [==============================] - 0s 3ms/step - loss: 1.0651 - accuracy: 0.5564\n",
            "Epoch 18/100\n",
            "47/47 [==============================] - 0s 3ms/step - loss: 1.0612 - accuracy: 0.5551\n",
            "Epoch 19/100\n",
            "47/47 [==============================] - 0s 4ms/step - loss: 1.0575 - accuracy: 0.5598\n",
            "Epoch 20/100\n",
            "47/47 [==============================] - 0s 3ms/step - loss: 1.0549 - accuracy: 0.5504\n",
            "Epoch 21/100\n",
            "47/47 [==============================] - 0s 5ms/step - loss: 1.0522 - accuracy: 0.5511\n",
            "Epoch 22/100\n",
            "47/47 [==============================] - 0s 4ms/step - loss: 1.0493 - accuracy: 0.5598\n",
            "Epoch 23/100\n",
            "47/47 [==============================] - 0s 6ms/step - loss: 1.0487 - accuracy: 0.5564\n",
            "Epoch 24/100\n",
            "47/47 [==============================] - 0s 3ms/step - loss: 1.0451 - accuracy: 0.5558\n",
            "Epoch 25/100\n",
            "47/47 [==============================] - 0s 4ms/step - loss: 1.0439 - accuracy: 0.5544\n",
            "Epoch 26/100\n",
            "47/47 [==============================] - 0s 6ms/step - loss: 1.0411 - accuracy: 0.5625\n",
            "Epoch 27/100\n",
            "47/47 [==============================] - 0s 6ms/step - loss: 1.0401 - accuracy: 0.5564\n",
            "Epoch 28/100\n",
            "47/47 [==============================] - 0s 3ms/step - loss: 1.0372 - accuracy: 0.5585\n",
            "Epoch 29/100\n",
            "47/47 [==============================] - 0s 4ms/step - loss: 1.0360 - accuracy: 0.5618\n",
            "Epoch 30/100\n",
            "47/47 [==============================] - 0s 4ms/step - loss: 1.0355 - accuracy: 0.5591\n",
            "Epoch 31/100\n",
            "47/47 [==============================] - 0s 5ms/step - loss: 1.0326 - accuracy: 0.5558\n",
            "Epoch 32/100\n",
            "47/47 [==============================] - 0s 5ms/step - loss: 1.0326 - accuracy: 0.5618\n",
            "Epoch 33/100\n",
            "47/47 [==============================] - 0s 7ms/step - loss: 1.0300 - accuracy: 0.5618\n",
            "Epoch 34/100\n",
            "47/47 [==============================] - 0s 5ms/step - loss: 1.0293 - accuracy: 0.5645\n",
            "Epoch 35/100\n",
            "47/47 [==============================] - 0s 5ms/step - loss: 1.0276 - accuracy: 0.5698\n",
            "Epoch 36/100\n",
            "47/47 [==============================] - 0s 6ms/step - loss: 1.0279 - accuracy: 0.5665\n",
            "Epoch 37/100\n",
            "47/47 [==============================] - 0s 5ms/step - loss: 1.0254 - accuracy: 0.5678\n",
            "Epoch 38/100\n",
            "47/47 [==============================] - 0s 6ms/step - loss: 1.0239 - accuracy: 0.5645\n",
            "Epoch 39/100\n",
            "47/47 [==============================] - 0s 6ms/step - loss: 1.0243 - accuracy: 0.5625\n",
            "Epoch 40/100\n",
            "47/47 [==============================] - 0s 4ms/step - loss: 1.0236 - accuracy: 0.5638\n",
            "Epoch 41/100\n",
            "47/47 [==============================] - 0s 8ms/step - loss: 1.0203 - accuracy: 0.5645\n",
            "Epoch 42/100\n",
            "47/47 [==============================] - 0s 9ms/step - loss: 1.0191 - accuracy: 0.5698\n",
            "Epoch 43/100\n",
            "47/47 [==============================] - 0s 5ms/step - loss: 1.0182 - accuracy: 0.5651\n",
            "Epoch 44/100\n",
            "47/47 [==============================] - 0s 8ms/step - loss: 1.0185 - accuracy: 0.5725\n",
            "Epoch 45/100\n",
            "47/47 [==============================] - 0s 9ms/step - loss: 1.0186 - accuracy: 0.5705\n",
            "Epoch 46/100\n",
            "47/47 [==============================] - 0s 7ms/step - loss: 1.0174 - accuracy: 0.5658\n",
            "Epoch 47/100\n",
            "47/47 [==============================] - 0s 7ms/step - loss: 1.0159 - accuracy: 0.5705\n",
            "Epoch 48/100\n",
            "47/47 [==============================] - 0s 9ms/step - loss: 1.0158 - accuracy: 0.5618\n",
            "Epoch 49/100\n",
            "47/47 [==============================] - 0s 6ms/step - loss: 1.0141 - accuracy: 0.5731\n",
            "Epoch 50/100\n",
            "47/47 [==============================] - 0s 3ms/step - loss: 1.0114 - accuracy: 0.5711\n",
            "Epoch 51/100\n",
            "47/47 [==============================] - 0s 2ms/step - loss: 1.0111 - accuracy: 0.5752\n",
            "Epoch 52/100\n",
            "47/47 [==============================] - 0s 5ms/step - loss: 1.0102 - accuracy: 0.5705\n",
            "Epoch 53/100\n",
            "47/47 [==============================] - 0s 3ms/step - loss: 1.0110 - accuracy: 0.5731\n",
            "Epoch 54/100\n",
            "47/47 [==============================] - 0s 4ms/step - loss: 1.0103 - accuracy: 0.5665\n",
            "Epoch 55/100\n",
            "47/47 [==============================] - 0s 4ms/step - loss: 1.0092 - accuracy: 0.5711\n",
            "Epoch 56/100\n",
            "47/47 [==============================] - 0s 5ms/step - loss: 1.0078 - accuracy: 0.5685\n",
            "Epoch 57/100\n",
            "47/47 [==============================] - 0s 4ms/step - loss: 1.0081 - accuracy: 0.5731\n",
            "Epoch 58/100\n",
            "47/47 [==============================] - 0s 3ms/step - loss: 1.0054 - accuracy: 0.5691\n",
            "Epoch 59/100\n",
            "47/47 [==============================] - 0s 3ms/step - loss: 1.0063 - accuracy: 0.5725\n",
            "Epoch 60/100\n",
            "47/47 [==============================] - 0s 4ms/step - loss: 1.0057 - accuracy: 0.5725\n",
            "Epoch 61/100\n",
            "47/47 [==============================] - 0s 3ms/step - loss: 1.0049 - accuracy: 0.5711\n",
            "Epoch 62/100\n",
            "47/47 [==============================] - 0s 4ms/step - loss: 1.0037 - accuracy: 0.5758\n",
            "Epoch 63/100\n",
            "47/47 [==============================] - 0s 4ms/step - loss: 1.0047 - accuracy: 0.5765\n",
            "Epoch 64/100\n",
            "47/47 [==============================] - 0s 3ms/step - loss: 1.0044 - accuracy: 0.5731\n",
            "Epoch 65/100\n",
            "47/47 [==============================] - 0s 4ms/step - loss: 1.0022 - accuracy: 0.5758\n",
            "Epoch 66/100\n",
            "47/47 [==============================] - 0s 4ms/step - loss: 1.0015 - accuracy: 0.5711\n",
            "Epoch 67/100\n",
            "47/47 [==============================] - 0s 9ms/step - loss: 1.0012 - accuracy: 0.5738\n",
            "Epoch 68/100\n",
            "47/47 [==============================] - 0s 5ms/step - loss: 1.0008 - accuracy: 0.5785\n",
            "Epoch 69/100\n",
            "47/47 [==============================] - 0s 2ms/step - loss: 0.9991 - accuracy: 0.5738\n",
            "Epoch 70/100\n",
            "47/47 [==============================] - 0s 2ms/step - loss: 0.9999 - accuracy: 0.5838\n",
            "Epoch 71/100\n",
            "47/47 [==============================] - 0s 2ms/step - loss: 0.9990 - accuracy: 0.5752\n",
            "Epoch 72/100\n",
            "47/47 [==============================] - 0s 3ms/step - loss: 0.9983 - accuracy: 0.5758\n",
            "Epoch 73/100\n",
            "47/47 [==============================] - 0s 3ms/step - loss: 0.9965 - accuracy: 0.5758\n",
            "Epoch 74/100\n",
            "47/47 [==============================] - 0s 2ms/step - loss: 0.9979 - accuracy: 0.5731\n",
            "Epoch 75/100\n",
            "47/47 [==============================] - 0s 2ms/step - loss: 0.9971 - accuracy: 0.5778\n",
            "Epoch 76/100\n",
            "47/47 [==============================] - 0s 2ms/step - loss: 0.9958 - accuracy: 0.5725\n",
            "Epoch 77/100\n",
            "47/47 [==============================] - 0s 2ms/step - loss: 0.9959 - accuracy: 0.5805\n",
            "Epoch 78/100\n",
            "47/47 [==============================] - 0s 2ms/step - loss: 0.9947 - accuracy: 0.5758\n",
            "Epoch 79/100\n",
            "47/47 [==============================] - 0s 2ms/step - loss: 0.9951 - accuracy: 0.5785\n",
            "Epoch 80/100\n",
            "47/47 [==============================] - 0s 2ms/step - loss: 0.9938 - accuracy: 0.5798\n",
            "Epoch 81/100\n",
            "47/47 [==============================] - 0s 2ms/step - loss: 0.9925 - accuracy: 0.5838\n",
            "Epoch 82/100\n",
            "47/47 [==============================] - 0s 2ms/step - loss: 0.9950 - accuracy: 0.5745\n",
            "Epoch 83/100\n",
            "47/47 [==============================] - 0s 2ms/step - loss: 0.9926 - accuracy: 0.5792\n",
            "Epoch 84/100\n",
            "47/47 [==============================] - 0s 2ms/step - loss: 0.9924 - accuracy: 0.5758\n",
            "Epoch 85/100\n",
            "47/47 [==============================] - 0s 2ms/step - loss: 0.9922 - accuracy: 0.5825\n",
            "Epoch 86/100\n",
            "47/47 [==============================] - 0s 2ms/step - loss: 0.9910 - accuracy: 0.5852\n",
            "Epoch 87/100\n",
            "47/47 [==============================] - 0s 2ms/step - loss: 0.9896 - accuracy: 0.5812\n",
            "Epoch 88/100\n",
            "47/47 [==============================] - 0s 2ms/step - loss: 0.9899 - accuracy: 0.5758\n",
            "Epoch 89/100\n",
            "47/47 [==============================] - 0s 2ms/step - loss: 0.9915 - accuracy: 0.5772\n",
            "Epoch 90/100\n",
            "47/47 [==============================] - 0s 2ms/step - loss: 0.9898 - accuracy: 0.5805\n",
            "Epoch 91/100\n",
            "47/47 [==============================] - 0s 2ms/step - loss: 0.9904 - accuracy: 0.5838\n",
            "Epoch 92/100\n",
            "47/47 [==============================] - 0s 2ms/step - loss: 0.9886 - accuracy: 0.5825\n",
            "Epoch 93/100\n",
            "47/47 [==============================] - 0s 2ms/step - loss: 0.9890 - accuracy: 0.5792\n",
            "Epoch 94/100\n",
            "47/47 [==============================] - 0s 2ms/step - loss: 0.9900 - accuracy: 0.5745\n",
            "Epoch 95/100\n",
            "47/47 [==============================] - 0s 2ms/step - loss: 0.9875 - accuracy: 0.5812\n",
            "Epoch 96/100\n",
            "47/47 [==============================] - 0s 2ms/step - loss: 0.9871 - accuracy: 0.5818\n",
            "Epoch 97/100\n",
            "47/47 [==============================] - 0s 2ms/step - loss: 0.9864 - accuracy: 0.5785\n",
            "Epoch 98/100\n",
            "47/47 [==============================] - 0s 2ms/step - loss: 0.9869 - accuracy: 0.5852\n",
            "Epoch 99/100\n",
            "47/47 [==============================] - 0s 2ms/step - loss: 0.9861 - accuracy: 0.5838\n",
            "Epoch 100/100\n",
            "47/47 [==============================] - 0s 2ms/step - loss: 0.9853 - accuracy: 0.5832\n",
            "16/16 - 0s - loss: 0.9957 - accuracy: 0.5972 - 184ms/epoch - 11ms/step\n",
            "Loss: 0.9957192540168762, Accuracy: 0.5971943736076355\n"
          ]
        }
      ]
    },
    {
      "cell_type": "code",
      "source": [],
      "metadata": {
        "id": "LkmbFmB5MB8J"
      },
      "execution_count": null,
      "outputs": []
    }
  ]
}